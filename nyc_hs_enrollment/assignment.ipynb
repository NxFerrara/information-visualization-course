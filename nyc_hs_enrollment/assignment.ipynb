{
 "cells": [
  {
   "cell_type": "markdown",
   "id": "6bd871d7",
   "metadata": {},
   "source": [
    "# Assignment: NYC High School Enrollment\n",
    "\n",
    "New York City has one of the largest public school programs in the world. In this assignment, we will explore and visualize the enrollment data of NYC high schools.\n",
    "\n",
    "## Data:\n",
    "\n",
    "This assignment involves 3 datasets:\n",
    "\n",
    "* [School district](https://data.cityofnewyork.us/Education/School-Districts/r8nu-ymqj): This dataset provides the geospatial data about the school districts.\n",
    "* [2021 DOE high school directory](https://data.cityofnewyork.us/Education/2021-DOE-High-School-Directory/8b6c-7uty): This dataset provides detailed information about each high school. In particular, the \"location\" column contains the longitude and latitude coordinates of each school.\n",
    "* [2020-2021 school quality reports - high school](https://data.cityofnewyork.us/Education/2020-2021-School-Quality-Reports-High-School/26je-vkp6): This dataset provides many quality measurement results. We are interested in the \"enrollment\" data.\n",
    "\n",
    "In the last two datasets, each school is identified by the column DBN, which stands for District Borough Number. [This page](https://teachnyc.zendesk.com/hc/en-us/articles/360053601831-What-is-a-DBN-District-Borough-Number-) provides a detailed explanation of DBN. DBN is an important column that allows us to connect data across different datasets.\n",
    "\n",
    "## Task:\n",
    "\n",
    "Your task for this assignment is to create a single visualization that visualizing the following information on a map:\n",
    "\n",
    "* The total number of high school students enrolled in each school district using choropleth map.\n",
    "* The location of the 20 largest high schools measured by enrollment (as dots on the map).\n",
    "* The enrollment size of the 20 largest high schools (as radius of the dots).\n",
    "\n",
    "## Submit:\n",
    "\n",
    "Please use the provided Jupyter notebook for this assingment. Submit the completed Jupyter notebook as well as the resulting visualization (as .png, .html or .svg file)."
   ]
  },
  {
   "cell_type": "code",
   "execution_count": 1,
   "id": "4db097b7",
   "metadata": {},
   "outputs": [],
   "source": [
    "import altair as alt\n",
    "import pandas as pd\n",
    "import geopandas as gpd\n",
    "\n",
    "# Retrieving the data\n",
    "\n",
    "school_district = gpd.read_file(\"https://data.cityofnewyork.us/api/geospatial/r8nu-ymqj?method=export&format=GeoJSON\")\n",
    "school_directory = pd.read_csv(\"https://data.cityofnewyork.us/api/views/8b6c-7uty/rows.csv?accessType=DOWNLOAD\")\n",
    "school_quality = pd.read_csv(\"https://data.cityofnewyork.us/api/views/26je-vkp6/rows.csv?accessType=DOWNLOAD\")"
   ]
  },
  {
   "cell_type": "code",
   "execution_count": 2,
   "id": "7906d7cc",
   "metadata": {},
   "outputs": [],
   "source": [
    "# Your code here..."
   ]
  }
 ],
 "metadata": {
  "kernelspec": {
   "display_name": "Python 3 (ipykernel)",
   "language": "python",
   "name": "python3"
  },
  "language_info": {
   "codemirror_mode": {
    "name": "ipython",
    "version": 3
   },
   "file_extension": ".py",
   "mimetype": "text/x-python",
   "name": "python",
   "nbconvert_exporter": "python",
   "pygments_lexer": "ipython3",
   "version": "3.10.13"
  }
 },
 "nbformat": 4,
 "nbformat_minor": 5
}
